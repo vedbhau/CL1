{
 "cells": [
  {
   "cell_type": "code",
   "execution_count": 2,
   "id": "eb503d06",
   "metadata": {},
   "outputs": [
    {
     "data": {
      "text/plain": [
       "((1382, 6), (346, 6))"
      ]
     },
     "execution_count": 2,
     "metadata": {},
     "output_type": "execute_result"
    }
   ],
   "source": [
    "\n",
    "import pandas as pd\n",
    "import numpy as np\n",
    "from sklearn.model_selection import train_test_split\n",
    "from sklearn.ensemble import RandomForestClassifier\n",
    "from sklearn.metrics import accuracy_score,confusion_matrix\n",
    "from sklearn.preprocessing import LabelEncoder \n",
    "\n",
    "\n",
    "df = pd.read_csv(\"car_evaluation.csv\")\n",
    "df\n",
    "\n",
    "df.describe()\n",
    "\n",
    "col_names = ['Buying' , 'maint' ,'doors' ,'persons' ,'lug_boot' ,'safety' ,'class']\n",
    "df.columns = col_names\n",
    "\n",
    "df.head()\n",
    "\n",
    "\n",
    "le = LabelEncoder()\n",
    "\n",
    "for col in df.columns:\n",
    "    if df[col].dtype != 'object':\n",
    "        continue\n",
    "\n",
    "    df[col] = le.fit_transform(df[col])\n",
    "\n",
    "    \n",
    "df.head()\n",
    "\n",
    "\n",
    "\n",
    "X = df.drop(['class'],axis =1)\n",
    "y = df['class']\n",
    "\n",
    "X_train,X_test,y_train,y_test = train_test_split(X,y, test_size = 0.2,random_state=60)\n",
    "X_train.shape , X_test.shape\n",
    "\n",
    "\n"
   ]
  },
  {
   "cell_type": "code",
   "execution_count": 3,
   "id": "0fd8d841",
   "metadata": {},
   "outputs": [
    {
     "name": "stdout",
     "output_type": "stream",
     "text": [
      "Accuracy: 94.50867052023122 % \n",
      "\n",
      "Confusion Matrix:\n",
      " [[ 73   3  12   0]\n",
      " [  1  11   0   0]\n",
      " [  3   0 228   0]\n",
      " [  0   0   0  15]]\n"
     ]
    }
   ],
   "source": [
    "rfc = RandomForestClassifier(n_estimators = 18+25)\n",
    "rfc.fit(X_train,y_train)\n",
    "\n",
    "\n",
    "y_pred = rfc.predict(X_test)\n",
    "accuracy = accuracy_score(y_test,y_pred)\n",
    "conf_matrix = confusion_matrix(y_test,y_pred)\n",
    "\n",
    "print('Accuracy:',accuracy*100,'%','\\n')\n",
    "print('Confusion Matrix:\\n',conf_matrix)"
   ]
  },
  {
   "cell_type": "code",
   "execution_count": null,
   "id": "3f1d95de",
   "metadata": {},
   "outputs": [],
   "source": []
  }
 ],
 "metadata": {
  "kernelspec": {
   "display_name": "Python 3 (ipykernel)",
   "language": "python",
   "name": "python3"
  },
  "language_info": {
   "codemirror_mode": {
    "name": "ipython",
    "version": 3
   },
   "file_extension": ".py",
   "mimetype": "text/x-python",
   "name": "python",
   "nbconvert_exporter": "python",
   "pygments_lexer": "ipython3",
   "version": "3.9.13"
  },
  "varInspector": {
   "cols": {
    "lenName": 16,
    "lenType": 16,
    "lenVar": 40
   },
   "kernels_config": {
    "python": {
     "delete_cmd_postfix": "",
     "delete_cmd_prefix": "del ",
     "library": "var_list.py",
     "varRefreshCmd": "print(var_dic_list())"
    },
    "r": {
     "delete_cmd_postfix": ") ",
     "delete_cmd_prefix": "rm(",
     "library": "var_list.r",
     "varRefreshCmd": "cat(var_dic_list()) "
    }
   },
   "types_to_exclude": [
    "module",
    "function",
    "builtin_function_or_method",
    "instance",
    "_Feature"
   ],
   "window_display": false
  }
 },
 "nbformat": 4,
 "nbformat_minor": 5
}
